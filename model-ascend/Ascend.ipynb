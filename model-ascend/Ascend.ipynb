{
 "cells": [
  {
   "cell_type": "code",
   "execution_count": 1,
   "id": "7d13561f-2097-4956-b0e2-b7a3ce980c60",
   "metadata": {
    "tags": []
   },
   "outputs": [],
   "source": [
    "import pandas as pd"
   ]
  },
  {
   "cell_type": "code",
   "execution_count": 2,
   "id": "03e841ef-e589-4074-b650-4971463444d7",
   "metadata": {
    "tags": []
   },
   "outputs": [],
   "source": [
    "import tensorflow as tf"
   ]
  },
  {
   "cell_type": "code",
   "execution_count": 3,
   "id": "8a214735-2589-4b74-8570-304c97b73229",
   "metadata": {
    "tags": []
   },
   "outputs": [
    {
     "name": "stdout",
     "output_type": "stream",
     "text": [
      "   userId  average_reading_time  variance_reading_time  average_user_rating\n",
      "0       1             10.315565             237.433203             4.366379\n",
      "1       2              6.703333              11.494817             3.948276\n",
      "2       3              7.376528              13.291537             2.435897\n",
      "3       4              8.767488              36.617566             3.555556\n",
      "4       5             11.623488             117.346621             3.636364\n"
     ]
    }
   ],
   "source": [
    "# Load User_Stats.csv\n",
    "user_stats_df = pd.read_csv('Users.csv')\n",
    "print(user_stats_df.head())"
   ]
  },
  {
   "cell_type": "code",
   "execution_count": 4,
   "id": "20f4cd49-a8b7-4363-8fda-5d3f0a5efcef",
   "metadata": {
    "tags": []
   },
   "outputs": [
    {
     "name": "stdout",
     "output_type": "stream",
     "text": [
      "   articleID  article_average_rating  article_year  \\\n",
      "0          1                3.920930          2016   \n",
      "1          2                3.431818          2013   \n",
      "2          3                3.259615          2017   \n",
      "3          4                2.357143          2018   \n",
      "4          5                3.071429          2018   \n",
      "\n",
      "                                       article_title  Average Reading Time  \n",
      "0  \"Human-Animal Chimeras Are Gestating on U.S. R...                10.995  \n",
      "1     \"Too Much Information | MIT Technology Review\"                 2.995  \n",
      "2  \"Hacking the Biological Clock | MIT Technology...                 7.595  \n",
      "3  \"Six things to do with your data before you di...                 8.305  \n",
      "4   \"Your genome, on demand | MIT Technology Review\"                 2.300  \n"
     ]
    }
   ],
   "source": [
    "# Load Item.csv\n",
    "item_df = pd.read_csv('Items.csv')\n",
    "print(item_df.head())"
   ]
  },
  {
   "cell_type": "code",
   "execution_count": 5,
   "id": "979ad4d7-f04b-4fd9-b74b-19da84744bdc",
   "metadata": {
    "tags": []
   },
   "outputs": [
    {
     "name": "stdout",
     "output_type": "stream",
     "text": [
      "   userId  articleID  rating\n",
      "0       1          1     4.0\n",
      "1       5          1     4.0\n",
      "2       7          1     4.5\n",
      "3      15          1     2.5\n",
      "4      17          1     4.5\n"
     ]
    }
   ],
   "source": [
    "# Load Ratings.csv\n",
    "ratings_df = pd.read_csv('Ratings.csv', encoding='ascii')\n",
    "print(ratings_df.head())"
   ]
  },
  {
   "cell_type": "code",
   "execution_count": 8,
   "id": "4440db6d-aa25-4c57-a1f2-5278c1e19b25",
   "metadata": {
    "tags": []
   },
   "outputs": [
    {
     "name": "stdout",
     "output_type": "stream",
     "text": [
      "   average_reading_time  variance_reading_time  average_user_rating\n",
      "0              0.391198               0.132161             0.829900\n",
      "1              0.153401               0.004380             0.717658\n",
      "2              0.197718               0.005396             0.311650\n",
      "3              0.289286               0.018588             0.612230\n",
      "4              0.477301               0.064245             0.633923\n",
      "   article_average_rating  article_year  Average Reading Time\n",
      "0                0.760207      0.695652              0.048970\n",
      "1                0.651515      0.565217              0.010411\n",
      "2                0.613248      0.739130              0.032582\n",
      "3                0.412698      0.782609              0.036004\n",
      "4                0.571429      0.782609              0.007061\n"
     ]
    }
   ],
   "source": [
    "from sklearn.preprocessing import MinMaxScaler\n",
    "import pandas as pd\n",
    "# from tqdm.notebook import tqdm\n",
    "\n",
    "# Load the datasets\n",
    "user_stats_df = pd.read_csv('Users.csv')\n",
    "item_df = pd.read_csv('Items.csv')\n",
    "ratings_df = pd.read_csv('Ratings.csv')\n",
    "\n",
    "# Normalize the User and Item feature data\n",
    "scaler = MinMaxScaler()\n",
    "\n",
    "# Selecting numeric columns for normalization\n",
    "user_features = user_stats_df[['average_reading_time', 'variance_reading_time', 'average_user_rating']]\n",
    "item_features = item_df[['article_average_rating', 'article_year', 'Average Reading Time']]\n",
    "\n",
    "# Normalizing the features\n",
    "user_features_normalized = scaler.fit_transform(user_features)\n",
    "item_features_normalized = scaler.fit_transform(item_features)\n",
    "\n",
    "# Convert normalized features back to dataframe\n",
    "user_features_normalized_df = pd.DataFrame(user_features_normalized, columns=user_features.columns)\n",
    "item_features_normalized_df = pd.DataFrame(item_features_normalized, columns=item_features.columns)\n",
    "\n",
    "# Display the head of the normalized dataframes\n",
    "print(user_features_normalized_df.head())\n",
    "print(item_features_normalized_df.head())"
   ]
  },
  {
   "cell_type": "code",
   "execution_count": 9,
   "id": "975de05c-ac5e-461f-8aa1-b077f16f0d23",
   "metadata": {
    "tags": []
   },
   "outputs": [
    {
     "name": "stdout",
     "output_type": "stream",
     "text": [
      "Model: \"model\"\n",
      "__________________________________________________________________________________________________\n",
      " Layer (type)                   Output Shape         Param #     Connected to                     \n",
      "==================================================================================================\n",
      " User-Input (InputLayer)        [(None, 3)]          0           []                               \n",
      "                                                                                                  \n",
      " Item-Input (InputLayer)        [(None, 3)]          0           []                               \n",
      "                                                                                                  \n",
      " dense (Dense)                  (None, 128)          512         ['User-Input[0][0]']             \n",
      "                                                                                                  \n",
      " dense_2 (Dense)                (None, 128)          512         ['Item-Input[0][0]']             \n",
      "                                                                                                  \n",
      " dense_1 (Dense)                (None, 32)           4128        ['dense[0][0]']                  \n",
      "                                                                                                  \n",
      " dense_3 (Dense)                (None, 32)           4128        ['dense_2[0][0]']                \n",
      "                                                                                                  \n",
      " User-Vector (Dense)            (None, 8)            264         ['dense_1[0][0]']                \n",
      "                                                                                                  \n",
      " Item-Vector (Dense)            (None, 8)            264         ['dense_3[0][0]']                \n",
      "                                                                                                  \n",
      " Dot-Product (Dot)              (None, 1)            0           ['User-Vector[0][0]',            \n",
      "                                                                  'Item-Vector[0][0]']            \n",
      "                                                                                                  \n",
      "==================================================================================================\n",
      "Total params: 9,808\n",
      "Trainable params: 9,808\n",
      "Non-trainable params: 0\n",
      "__________________________________________________________________________________________________\n"
     ]
    }
   ],
   "source": [
    "from tensorflow.keras.models import Model\n",
    "from tensorflow.keras.layers import Input, Dense, Embedding, Flatten, Dot\n",
    "from tensorflow.keras.optimizers import Adam\n",
    "\n",
    "# Define the architecture of the User neural network\n",
    "user_input = Input(shape=(3,), name='User-Input')\n",
    "user_embedding = Dense(128, activation='relu')(user_input)\n",
    "user_embedding = Dense(32, activation='relu')(user_embedding)\n",
    "user_vector = Dense(8, activation='relu', name='User-Vector')(user_embedding)\n",
    "\n",
    "# Define the architecture of the Item neural network\n",
    "item_input = Input(shape=(3,), name='Item-Input')\n",
    "item_embedding = Dense(128, activation='relu')(item_input)\n",
    "item_embedding = Dense(32, activation='relu')(item_embedding)\n",
    "item_vector = Dense(8, activation='relu', name='Item-Vector')(item_embedding)\n",
    "\n",
    "# Compute the dot product of the two vectors\n",
    "merged_vector = Dot(name='Dot-Product', axes=1)([user_vector, item_vector])\n",
    "\n",
    "# Define the model\n",
    "model = Model(inputs=[user_input, item_input], outputs=merged_vector)\n",
    "\n",
    "# Compile the model\n",
    "model.compile(optimizer=Adam(), loss='mean_squared_error')\n",
    "\n",
    "# Display the model summary\n",
    "model.summary()"
   ]
  },
  {
   "cell_type": "code",
   "execution_count": 12,
   "id": "542444ac-97a6-4e4a-a5ee-746fe0be9ce6",
   "metadata": {},
   "outputs": [
    {
     "name": "stdout",
     "output_type": "stream",
     "text": [
      "Epoch 1/30\n",
      "1935/1935 [==============================] - 13s 7ms/step - loss: 1.0749 - val_loss: 1.0454\n",
      "Epoch 2/30\n",
      "1935/1935 [==============================] - 12s 6ms/step - loss: 1.0752 - val_loss: 1.0489\n",
      "Epoch 3/30\n",
      "1935/1935 [==============================] - 16s 8ms/step - loss: 1.0748 - val_loss: 1.0451\n",
      "Epoch 4/30\n",
      "1935/1935 [==============================] - 21s 11ms/step - loss: 1.0735 - val_loss: 1.0468\n",
      "Epoch 5/30\n",
      "1935/1935 [==============================] - 22s 11ms/step - loss: 1.0730 - val_loss: 1.0471\n",
      "Epoch 6/30\n",
      "1935/1935 [==============================] - 11s 6ms/step - loss: 1.0710 - val_loss: 1.0580\n",
      "Epoch 7/30\n",
      "1935/1935 [==============================] - 11s 6ms/step - loss: 1.0717 - val_loss: 1.0446\n",
      "Epoch 8/30\n",
      "1935/1935 [==============================] - 14s 7ms/step - loss: 1.0705 - val_loss: 1.0452\n",
      "Epoch 9/30\n",
      "1935/1935 [==============================] - 20s 10ms/step - loss: 1.0696 - val_loss: 1.0455\n",
      "Epoch 10/30\n",
      "1935/1935 [==============================] - 18s 9ms/step - loss: 1.0699 - val_loss: 1.0629\n",
      "Epoch 11/30\n",
      "1935/1935 [==============================] - 20s 10ms/step - loss: 1.0690 - val_loss: 1.0617\n",
      "Epoch 12/30\n",
      "1935/1935 [==============================] - 20s 11ms/step - loss: 1.0681 - val_loss: 1.0433\n",
      "Epoch 13/30\n",
      "1935/1935 [==============================] - 17s 9ms/step - loss: 1.0691 - val_loss: 1.0465\n",
      "Epoch 14/30\n",
      "1935/1935 [==============================] - 20s 10ms/step - loss: 1.0665 - val_loss: 1.0428\n",
      "Epoch 15/30\n",
      "1935/1935 [==============================] - 20s 10ms/step - loss: 1.0668 - val_loss: 1.0481\n",
      "Epoch 16/30\n",
      "1935/1935 [==============================] - 16s 8ms/step - loss: 1.0663 - val_loss: 1.0436\n",
      "Epoch 17/30\n",
      "1935/1935 [==============================] - 11s 6ms/step - loss: 1.0656 - val_loss: 1.0503\n",
      "Epoch 18/30\n",
      "1935/1935 [==============================] - 10s 5ms/step - loss: 1.0660 - val_loss: 1.0539\n",
      "Epoch 19/30\n",
      "1935/1935 [==============================] - 10s 5ms/step - loss: 1.0651 - val_loss: 1.0385\n",
      "Epoch 20/30\n",
      "1935/1935 [==============================] - 10s 5ms/step - loss: 1.0656 - val_loss: 1.0425\n",
      "Epoch 21/30\n",
      "1935/1935 [==============================] - 10s 5ms/step - loss: 1.0633 - val_loss: 1.0382\n",
      "Epoch 22/30\n",
      "1935/1935 [==============================] - 10s 5ms/step - loss: 1.0622 - val_loss: 1.0402\n",
      "Epoch 23/30\n",
      "1935/1935 [==============================] - 12s 6ms/step - loss: 1.0611 - val_loss: 1.0444\n",
      "Epoch 24/30\n",
      "1935/1935 [==============================] - 17s 9ms/step - loss: 1.0619 - val_loss: 1.0564\n",
      "Epoch 25/30\n",
      "1935/1935 [==============================] - 16s 8ms/step - loss: 1.0609 - val_loss: 1.0402\n",
      "Epoch 26/30\n",
      "1935/1935 [==============================] - 17s 9ms/step - loss: 1.0610 - val_loss: 1.0421\n",
      "Epoch 27/30\n",
      "1935/1935 [==============================] - 16s 8ms/step - loss: 1.0612 - val_loss: 1.0420\n",
      "Epoch 28/30\n",
      "1935/1935 [==============================] - 18s 9ms/step - loss: 1.0602 - val_loss: 1.0348\n",
      "Epoch 29/30\n",
      "1935/1935 [==============================] - 15s 8ms/step - loss: 1.0593 - val_loss: 1.0355\n",
      "Epoch 30/30\n",
      "1935/1935 [==============================] - 15s 8ms/step - loss: 1.0586 - val_loss: 1.0369\n"
     ]
    },
    {
     "data": {
      "image/png": "[encoded data removed]",
      "text/plain": [
       "<Figure size 640x480 with 1 Axes>"
      ]
     },
     "metadata": {},
     "output_type": "display_data"
    }
   ],
   "source": [
    "from sklearn.model_selection import train_test_split\n",
    "\n",
    "# Prepare the data for training\n",
    "# Merging the user and item features with the ratings dataframe\n",
    "merged_user_df = ratings_df.merge(user_features_normalized_df, left_on='userId', right_index=True)\n",
    "merged_item_df = merged_user_df.merge(item_features_normalized_df, left_on='articleID', right_index=True)\n",
    "\n",
    "# Selecting the features and the target\n",
    "X_user = merged_item_df[['average_reading_time', 'variance_reading_time', 'average_user_rating']].values\n",
    "X_item = merged_item_df[['article_average_rating', 'article_year', 'Average Reading Time']].values\n",
    "y = merged_item_df['rating'].values\n",
    "\n",
    "# Split the data into training and test sets\n",
    "X_user_train, X_user_test, X_item_train, X_item_test, y_train, y_test = train_test_split(X_user, X_item, y, test_size=0.2, random_state=42)\n",
    "\n",
    "# Train the model\n",
    "history = model.fit([X_user_train, X_item_train], y_train, validation_data=([X_user_test, X_item_test], y_test), epochs=30, verbose=1)\n",
    "\n",
    "# Plot the training history\n",
    "import matplotlib.pyplot as plt\n",
    "\n",
    "plt.plot(history.history['loss'], label='Train Loss')\n",
    "plt.plot(history.history['val_loss'], label='Test Loss')\n",
    "plt.title('Model Loss')\n",
    "plt.ylabel('Loss')\n",
    "plt.xlabel('Epoch')\n",
    "plt.legend()\n",
    "plt.show()"
   ]
  },
  {
   "cell_type": "code",
   "execution_count": 1,
   "id": "f1a6a949-a685-4068-8725-119823c9febd",
   "metadata": {},
   "outputs": [],
   "source": [
    "# model.save('saved_model');"
   ]
  },
  {
   "cell_type": "code",
   "execution_count": 2,
   "id": "402fa133-8747-4e47-8636-a7fcce3758ef",
   "metadata": {},
   "outputs": [],
   "source": [
    "# model.save('saved_model.h5');"
   ]
  },
  {
   "cell_type": "code",
   "execution_count": 3,
   "id": "441a0161-adf1-4acd-ac6f-d237f0ea7e40",
   "metadata": {},
   "outputs": [],
   "source": [
    "# import tensorflowjs as tfjs"
   ]
  },
  {
   "cell_type": "code",
   "execution_count": null,
   "id": "50c656d0-eee2-4ad0-bd3f-393cb0f6a61c",
   "metadata": {},
   "outputs": [],
   "source": []
  }
 ],
 "metadata": {
  "kernelspec": {
   "display_name": "Python 3 (ipykernel)",
   "language": "python",
   "name": "python3"
  },
  "language_info": {
   "codemirror_mode": {
    "name": "ipython",
    "version": 3
   },
   "file_extension": ".py",
   "mimetype": "text/x-python",
   "name": "python",
   "nbconvert_exporter": "python",
   "pygments_lexer": "ipython3",
   "version": "3.10.13"
  }
 },
 "nbformat": 4,
 "nbformat_minor": 5
}
